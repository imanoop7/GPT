{
  "nbformat": 4,
  "nbformat_minor": 0,
  "metadata": {
    "colab": {
      "provenance": []
    },
    "kernelspec": {
      "name": "python3",
      "display_name": "Python 3"
    },
    "language_info": {
      "name": "python"
    }
  },
  "cells": [
    {
      "cell_type": "code",
      "execution_count": 1,
      "metadata": {
        "colab": {
          "base_uri": "https://localhost:8080/"
        },
        "id": "LPwlivJEWJhz",
        "outputId": "0594a929-a47d-47f6-903d-ab8d2724ad41"
      },
      "outputs": [
        {
          "output_type": "stream",
          "name": "stdout",
          "text": [
            "--2024-07-14 13:48:58--  https://raw.githubusercontent.com/karpathy/char-rnn/master/data/tinyshakespeare/input.txt\n",
            "Resolving raw.githubusercontent.com (raw.githubusercontent.com)... 185.199.108.133, 185.199.109.133, 185.199.110.133, ...\n",
            "Connecting to raw.githubusercontent.com (raw.githubusercontent.com)|185.199.108.133|:443... connected.\n",
            "HTTP request sent, awaiting response... 200 OK\n",
            "Length: 1115394 (1.1M) [text/plain]\n",
            "Saving to: ‘input.txt’\n",
            "\n",
            "\rinput.txt             0%[                    ]       0  --.-KB/s               \rinput.txt           100%[===================>]   1.06M  --.-KB/s    in 0.01s   \n",
            "\n",
            "2024-07-14 13:48:58 (94.5 MB/s) - ‘input.txt’ saved [1115394/1115394]\n",
            "\n"
          ]
        }
      ],
      "source": [
        "# We always start with a dataset to train on. Let's download the tiny shakespeare dataset\n",
        "!wget https://raw.githubusercontent.com/karpathy/char-rnn/master/data/tinyshakespeare/input.txt"
      ]
    },
    {
      "cell_type": "code",
      "source": [
        "with open(\"input.txt\", \"r\", encoding=\"utf-8\") as f:\n",
        "  text = f.read()"
      ],
      "metadata": {
        "id": "UkQZ_NsHWWjP"
      },
      "execution_count": 2,
      "outputs": []
    },
    {
      "cell_type": "code",
      "source": [
        "print(len(text))"
      ],
      "metadata": {
        "colab": {
          "base_uri": "https://localhost:8080/"
        },
        "id": "XSdUWzEmWZrD",
        "outputId": "7a7649b3-b043-4868-e1b0-15ccb662f197"
      },
      "execution_count": 3,
      "outputs": [
        {
          "output_type": "stream",
          "name": "stdout",
          "text": [
            "1115394\n"
          ]
        }
      ]
    },
    {
      "cell_type": "code",
      "source": [
        "print(text[:1000])"
      ],
      "metadata": {
        "colab": {
          "base_uri": "https://localhost:8080/"
        },
        "id": "bmLXUgvPWidZ",
        "outputId": "3299f48c-75c1-445e-be8c-1aad6139984e"
      },
      "execution_count": 4,
      "outputs": [
        {
          "output_type": "stream",
          "name": "stdout",
          "text": [
            "First Citizen:\n",
            "Before we proceed any further, hear me speak.\n",
            "\n",
            "All:\n",
            "Speak, speak.\n",
            "\n",
            "First Citizen:\n",
            "You are all resolved rather to die than to famish?\n",
            "\n",
            "All:\n",
            "Resolved. resolved.\n",
            "\n",
            "First Citizen:\n",
            "First, you know Caius Marcius is chief enemy to the people.\n",
            "\n",
            "All:\n",
            "We know't, we know't.\n",
            "\n",
            "First Citizen:\n",
            "Let us kill him, and we'll have corn at our own price.\n",
            "Is't a verdict?\n",
            "\n",
            "All:\n",
            "No more talking on't; let it be done: away, away!\n",
            "\n",
            "Second Citizen:\n",
            "One word, good citizens.\n",
            "\n",
            "First Citizen:\n",
            "We are accounted poor citizens, the patricians good.\n",
            "What authority surfeits on would relieve us: if they\n",
            "would yield us but the superfluity, while it were\n",
            "wholesome, we might guess they relieved us humanely;\n",
            "but they think we are too dear: the leanness that\n",
            "afflicts us, the object of our misery, is as an\n",
            "inventory to particularise their abundance; our\n",
            "sufferance is a gain to them Let us revenge this with\n",
            "our pikes, ere we become rakes: for the gods know I\n",
            "speak this in hunger for bread, not in thirst for revenge.\n",
            "\n",
            "\n"
          ]
        }
      ]
    },
    {
      "cell_type": "code",
      "source": [
        "#number of unique characters in the text\n",
        "\n",
        "chars = sorted(list(set(text)))\n",
        "vocab_size= len(chars)\n",
        "print(''.join(chars))\n",
        "print(vocab_size)\n",
        "\n"
      ],
      "metadata": {
        "colab": {
          "base_uri": "https://localhost:8080/"
        },
        "id": "1GrfecoXWi5b",
        "outputId": "6d3376f6-3f5a-4e43-a17e-213d2b379bbe"
      },
      "execution_count": 5,
      "outputs": [
        {
          "output_type": "stream",
          "name": "stdout",
          "text": [
            "\n",
            " !$&',-.3:;?ABCDEFGHIJKLMNOPQRSTUVWXYZabcdefghijklmnopqrstuvwxyz\n",
            "65\n"
          ]
        }
      ]
    },
    {
      "cell_type": "code",
      "source": [
        "# creating a mapping from characters to integers\n",
        "stoi = {ch:i for i,ch in enumerate(chars)}\n",
        "itos = {i:ch for i,ch in enumerate(chars)}\n",
        "# creating embedding for our model or encoder and decoder for out model\n",
        "encode = lambda s: [stoi[c] for c in s] # encoder: take a string, output a list of integers\n",
        "decode = lambda l: ''.join([itos[i] for i in l]) # decoder: take a list of integers, output a string"
      ],
      "metadata": {
        "id": "2JHZ-f5tXpZA"
      },
      "execution_count": 6,
      "outputs": []
    },
    {
      "cell_type": "code",
      "source": [
        "print(encode(\"hii there\"))\n",
        "print(decode(encode(\"hii there\")))"
      ],
      "metadata": {
        "colab": {
          "base_uri": "https://localhost:8080/"
        },
        "id": "32TQVcnMX3jo",
        "outputId": "7c648198-1378-463a-ee9a-a7a10ba9d77a"
      },
      "execution_count": 7,
      "outputs": [
        {
          "output_type": "stream",
          "name": "stdout",
          "text": [
            "[46, 47, 47, 1, 58, 46, 43, 56, 43]\n",
            "hii there\n"
          ]
        }
      ]
    },
    {
      "cell_type": "code",
      "source": [
        "# let's encode whole text\n",
        "import torch\n",
        "data = torch.tensor(encode(text), dtype=torch.long)\n",
        "print(data.shape, data.dtype)\n",
        "print(data[:50]) # the first 50 characters"
      ],
      "metadata": {
        "colab": {
          "base_uri": "https://localhost:8080/"
        },
        "id": "qcGWJEHWYDpM",
        "outputId": "9342d08d-bb49-4d69-a071-e1d4c5e4cd44"
      },
      "execution_count": 8,
      "outputs": [
        {
          "output_type": "stream",
          "name": "stdout",
          "text": [
            "torch.Size([1115394]) torch.int64\n",
            "tensor([18, 47, 56, 57, 58,  1, 15, 47, 58, 47, 64, 43, 52, 10,  0, 14, 43, 44,\n",
            "        53, 56, 43,  1, 61, 43,  1, 54, 56, 53, 41, 43, 43, 42,  1, 39, 52, 63,\n",
            "         1, 44, 59, 56, 58, 46, 43, 56,  6,  1, 46, 43, 39, 56])\n"
          ]
        }
      ]
    },
    {
      "cell_type": "code",
      "source": [
        "# split the data into test and validation\n",
        "n = int(0.9*len(data)) # first 90% will be train, rest for validation\n",
        "train_data = data[:n]\n",
        "val_data = data[n:]"
      ],
      "metadata": {
        "id": "v9U6dATNYrxB"
      },
      "execution_count": 9,
      "outputs": []
    },
    {
      "cell_type": "code",
      "source": [
        "block_size = 8\n",
        "train_data[:block_size+1]"
      ],
      "metadata": {
        "colab": {
          "base_uri": "https://localhost:8080/"
        },
        "id": "K5mO6AoXZcQn",
        "outputId": "e4dd5445-e627-43b7-ac9f-8ddb9061854d"
      },
      "execution_count": 10,
      "outputs": [
        {
          "output_type": "execute_result",
          "data": {
            "text/plain": [
              "tensor([18, 47, 56, 57, 58,  1, 15, 47, 58])"
            ]
          },
          "metadata": {},
          "execution_count": 10
        }
      ]
    },
    {
      "cell_type": "code",
      "source": [
        "x = train_data[:block_size]\n",
        "y = train_data[1:block_size+1]"
      ],
      "metadata": {
        "id": "VByvEVHbaGFq"
      },
      "execution_count": 11,
      "outputs": []
    },
    {
      "cell_type": "code",
      "source": [
        "x,y"
      ],
      "metadata": {
        "colab": {
          "base_uri": "https://localhost:8080/"
        },
        "id": "A0Dfc7yCaHPE",
        "outputId": "e1fe51fb-8af2-4c1c-beff-1ced143a1c01"
      },
      "execution_count": 12,
      "outputs": [
        {
          "output_type": "execute_result",
          "data": {
            "text/plain": [
              "(tensor([18, 47, 56, 57, 58,  1, 15, 47]),\n",
              " tensor([47, 56, 57, 58,  1, 15, 47, 58]))"
            ]
          },
          "metadata": {},
          "execution_count": 12
        }
      ]
    },
    {
      "cell_type": "code",
      "source": [
        "x = train_data[:block_size]\n",
        "y = train_data[1:block_size+1]\n",
        "\n",
        "for t in range(block_size):\n",
        "  context = x[:t+1]\n",
        "  target = y[t]\n",
        "  print(f\"when input is {context} the target: {target}\")\n",
        "\n"
      ],
      "metadata": {
        "colab": {
          "base_uri": "https://localhost:8080/"
        },
        "id": "7Ex_l9eSaZrm",
        "outputId": "73310f65-1e25-45fa-e4eb-e4cc5a2f930a"
      },
      "execution_count": 13,
      "outputs": [
        {
          "output_type": "stream",
          "name": "stdout",
          "text": [
            "when input is tensor([18]) the target: 47\n",
            "when input is tensor([18, 47]) the target: 56\n",
            "when input is tensor([18, 47, 56]) the target: 57\n",
            "when input is tensor([18, 47, 56, 57]) the target: 58\n",
            "when input is tensor([18, 47, 56, 57, 58]) the target: 1\n",
            "when input is tensor([18, 47, 56, 57, 58,  1]) the target: 15\n",
            "when input is tensor([18, 47, 56, 57, 58,  1, 15]) the target: 47\n",
            "when input is tensor([18, 47, 56, 57, 58,  1, 15, 47]) the target: 58\n"
          ]
        }
      ]
    },
    {
      "cell_type": "code",
      "source": [
        "torch.manual_seed(1337)\n",
        "# how many independent sequences will we process in parallel\n",
        "batch_size = 4\n",
        "# maximum context length for predictions\n",
        "block_size = 8\n",
        "\n",
        "def get_batch(split):\n",
        "  data = train_data if split == 'train' else val_data\n",
        "  ix = torch.randint(len(data) - block_size, (batch_size,))\n",
        "  x = torch.stack([data[i:i+block_size] for i in ix])\n",
        "  y = torch.stack([data[i+1:i+block_size+1] for i in ix])\n",
        "  return x, y"
      ],
      "metadata": {
        "id": "QAEThkhGbTDG"
      },
      "execution_count": 14,
      "outputs": []
    },
    {
      "cell_type": "code",
      "source": [
        "xb, yb = get_batch('train')\n",
        "print('inputs:')\n",
        "print(xb.shape)\n",
        "print(xb)\n",
        "print('targets:')\n",
        "print(yb.shape)\n",
        "print(yb)"
      ],
      "metadata": {
        "colab": {
          "base_uri": "https://localhost:8080/"
        },
        "id": "LT__ErbHbT59",
        "outputId": "7fa6adeb-4c01-4719-83c7-5d0dc48d5549"
      },
      "execution_count": 15,
      "outputs": [
        {
          "output_type": "stream",
          "name": "stdout",
          "text": [
            "inputs:\n",
            "torch.Size([4, 8])\n",
            "tensor([[24, 43, 58,  5, 57,  1, 46, 43],\n",
            "        [44, 53, 56,  1, 58, 46, 39, 58],\n",
            "        [52, 58,  1, 58, 46, 39, 58,  1],\n",
            "        [25, 17, 27, 10,  0, 21,  1, 54]])\n",
            "targets:\n",
            "torch.Size([4, 8])\n",
            "tensor([[43, 58,  5, 57,  1, 46, 43, 39],\n",
            "        [53, 56,  1, 58, 46, 39, 58,  1],\n",
            "        [58,  1, 58, 46, 39, 58,  1, 46],\n",
            "        [17, 27, 10,  0, 21,  1, 54, 39]])\n"
          ]
        }
      ]
    },
    {
      "cell_type": "code",
      "source": [
        "for b in range(batch_size):\n",
        "  for t in range(block_size):\n",
        "    context = xb[b, :t+1]\n",
        "    target = yb[b,t]\n",
        "    print(f\"when input is {context.tolist()} the target: {itos[target.item()]}\")"
      ],
      "metadata": {
        "colab": {
          "base_uri": "https://localhost:8080/"
        },
        "id": "XvmWBIfhbsSy",
        "outputId": "18f296ae-0ed4-4db0-e74c-32d868c004f1"
      },
      "execution_count": 16,
      "outputs": [
        {
          "output_type": "stream",
          "name": "stdout",
          "text": [
            "when input is [24] the target: e\n",
            "when input is [24, 43] the target: t\n",
            "when input is [24, 43, 58] the target: '\n",
            "when input is [24, 43, 58, 5] the target: s\n",
            "when input is [24, 43, 58, 5, 57] the target:  \n",
            "when input is [24, 43, 58, 5, 57, 1] the target: h\n",
            "when input is [24, 43, 58, 5, 57, 1, 46] the target: e\n",
            "when input is [24, 43, 58, 5, 57, 1, 46, 43] the target: a\n",
            "when input is [44] the target: o\n",
            "when input is [44, 53] the target: r\n",
            "when input is [44, 53, 56] the target:  \n",
            "when input is [44, 53, 56, 1] the target: t\n",
            "when input is [44, 53, 56, 1, 58] the target: h\n",
            "when input is [44, 53, 56, 1, 58, 46] the target: a\n",
            "when input is [44, 53, 56, 1, 58, 46, 39] the target: t\n",
            "when input is [44, 53, 56, 1, 58, 46, 39, 58] the target:  \n",
            "when input is [52] the target: t\n",
            "when input is [52, 58] the target:  \n",
            "when input is [52, 58, 1] the target: t\n",
            "when input is [52, 58, 1, 58] the target: h\n",
            "when input is [52, 58, 1, 58, 46] the target: a\n",
            "when input is [52, 58, 1, 58, 46, 39] the target: t\n",
            "when input is [52, 58, 1, 58, 46, 39, 58] the target:  \n",
            "when input is [52, 58, 1, 58, 46, 39, 58, 1] the target: h\n",
            "when input is [25] the target: E\n",
            "when input is [25, 17] the target: O\n",
            "when input is [25, 17, 27] the target: :\n",
            "when input is [25, 17, 27, 10] the target: \n",
            "\n",
            "when input is [25, 17, 27, 10, 0] the target: I\n",
            "when input is [25, 17, 27, 10, 0, 21] the target:  \n",
            "when input is [25, 17, 27, 10, 0, 21, 1] the target: p\n",
            "when input is [25, 17, 27, 10, 0, 21, 1, 54] the target: a\n"
          ]
        }
      ]
    },
    {
      "cell_type": "code",
      "source": [
        "print(xb)"
      ],
      "metadata": {
        "colab": {
          "base_uri": "https://localhost:8080/"
        },
        "id": "KATRs-Lxbski",
        "outputId": "c90bfbc0-5e07-4f3a-974e-64314228ce08"
      },
      "execution_count": 17,
      "outputs": [
        {
          "output_type": "stream",
          "name": "stdout",
          "text": [
            "tensor([[24, 43, 58,  5, 57,  1, 46, 43],\n",
            "        [44, 53, 56,  1, 58, 46, 39, 58],\n",
            "        [52, 58,  1, 58, 46, 39, 58,  1],\n",
            "        [25, 17, 27, 10,  0, 21,  1, 54]])\n"
          ]
        }
      ]
    },
    {
      "cell_type": "code",
      "source": [
        "import torch\n",
        "import torch.nn as nn\n",
        "from torch.nn import functional as F\n",
        "torch.manual_seed(1337)\n",
        "\n",
        "class BigramLanguageModel(nn.Module):\n",
        "  def __init__(self, vocab_size):\n",
        "    super().__init__()\n",
        "    # each token directly reads off the logits for the next token from a lookup table\n",
        "    self.token_embedding_table = nn.Embedding(vocab_size, vocab_size)\n",
        "\n",
        "  def forward(self, idx, targets=None):\n",
        "    logits = self.token_embedding_table(idx) # idx and targets are both\n",
        "    if targets is None:\n",
        "      loss = None\n",
        "    else:\n",
        "      B, T, C = logits.shape\n",
        "      logits = logits.view(B*T, C)\n",
        "      targets = targets.view(B*T)\n",
        "      loss = F.cross_entropy(logits, targets)\n",
        "\n",
        "    return logits, loss\n",
        "\n",
        "\n",
        "  def generate(self, idx, max_new_tokens):\n",
        "    for _ in range(max_new_tokens):\n",
        "      # get the predictions\n",
        "      logits, loss = self(idx)\n",
        "      # focus only on the last time step\n",
        "      logits = logits[:, -1, :] #\n",
        "      # apply softmax to get probabilities\n",
        "      probs = F.softmax(logits, dim=-1) # B, C\n",
        "      # sample from the distribution\n",
        "      idx_next = torch.multinomial(probs, num_samples=1) #\n",
        "      # append to the sequence and continue\n",
        "      idx = torch.cat((idx, idx_next), dim=1) #\n",
        "    return idx"
      ],
      "metadata": {
        "id": "wK-LSk18kiwI"
      },
      "execution_count": 18,
      "outputs": []
    },
    {
      "cell_type": "code",
      "source": [
        "m = BigramLanguageModel(vocab_size)\n",
        "logits, loss = m(xb, yb)\n",
        "print(logits.shape)\n",
        "print(loss)"
      ],
      "metadata": {
        "colab": {
          "base_uri": "https://localhost:8080/"
        },
        "id": "Ln4lbEuSlcrc",
        "outputId": "6d18a399-2106-44db-dac2-997b089f4c18"
      },
      "execution_count": 19,
      "outputs": [
        {
          "output_type": "stream",
          "name": "stdout",
          "text": [
            "torch.Size([32, 65])\n",
            "tensor(4.8786, grad_fn=<NllLossBackward0>)\n"
          ]
        }
      ]
    },
    {
      "cell_type": "code",
      "source": [
        "print(decode(m.generate(idx = torch.zeros((1, 1), dtype=torch.long), max_new_tokens=100)[0].tolist()))"
      ],
      "metadata": {
        "colab": {
          "base_uri": "https://localhost:8080/"
        },
        "id": "iLZUf-p0lm3N",
        "outputId": "8d0fe1cc-e267-415d-8d45-fd08886024d6"
      },
      "execution_count": 20,
      "outputs": [
        {
          "output_type": "stream",
          "name": "stdout",
          "text": [
            "\n",
            "Sr?qP-QWktXoL&jLDJgOLVz'RIoDqHdhsV&vLLxatjscMpwLERSPyao.qfzs$Ys$zF-w,;eEkzxjgCKFChs!iWW.ObzDnxA Ms$3\n"
          ]
        }
      ]
    },
    {
      "cell_type": "code",
      "source": [
        "optimizer = torch.optim.AdamW(m.parameters(), lr=1e-3)"
      ],
      "metadata": {
        "id": "sAzWSXdZl6Og"
      },
      "execution_count": 21,
      "outputs": []
    },
    {
      "cell_type": "code",
      "source": [
        "batch_size = 32\n",
        "for steps in range(10000):\n",
        "  # sample a batch of data\n",
        "  xb, yb = get_batch('train')\n",
        "  # evaluate the loss\n",
        "  logits, loss = m(xb, yb)\n",
        "  optimizer.zero_grad(set_to_none=True)\n",
        "  loss.backward()\n",
        "  optimizer.step()\n",
        "\n",
        "print(loss.item()) #have run the loop 3 times to get this loss\n"
      ],
      "metadata": {
        "colab": {
          "base_uri": "https://localhost:8080/"
        },
        "id": "BhhuBJr4mXxm",
        "outputId": "9ce88f70-0132-4367-a3a4-94ab6c9b2a02"
      },
      "execution_count": 22,
      "outputs": [
        {
          "output_type": "stream",
          "name": "stdout",
          "text": [
            "2.5727508068084717\n"
          ]
        }
      ]
    },
    {
      "cell_type": "code",
      "source": [
        "# output after 3 iteration\n",
        "print(decode(m.generate(idx = torch.zeros((1, 1), dtype=torch.long), max_new_tokens=500)[0].tolist()))"
      ],
      "metadata": {
        "colab": {
          "base_uri": "https://localhost:8080/"
        },
        "id": "V3Ry59tgmeRS",
        "outputId": "b0816842-d292-4590-c5e4-bf2cc58b56c5"
      },
      "execution_count": 23,
      "outputs": [
        {
          "output_type": "stream",
          "name": "stdout",
          "text": [
            "\n",
            "Iyoteng h hasbe pave pirance\n",
            "Rie hicomyonthar's\n",
            "Plinseard ith henoure wounonthioneir thondy, y heltieiengerofo'dsssit ey\n",
            "KIN d pe wither vouprrouthercc.\n",
            "hathe; d!\n",
            "My hind tt hinig t ouchos tes; st yo hind wotte grotonear 'so it t jod weancotha:\n",
            "h hay.JUCle n prids, r loncave w hollular s O:\n",
            "HIs; ht anjx?\n",
            "\n",
            "DUThinqunt.\n",
            "\n",
            "LaZAnde.\n",
            "athave l.\n",
            "KEONH:\n",
            "ARThanco be y,-hedarwnoddy scace, tridesar, wnl'shenous s ls, theresseys\n",
            "PlorseelapinghiybHen yof GLUCEN t l-t E:\n",
            "I hisgothers je are!-e!\n",
            "QLYotouciullle'z\n"
          ]
        }
      ]
    },
    {
      "cell_type": "code",
      "source": [
        "torch.manual_seed(42)\n",
        "a = torch.tril(torch.ones(3, 3))\n",
        "a = a / torch.sum(a,1, keepdim = True)\n",
        "b = torch.randint(0,10,(3,2)).float()\n",
        "\n",
        "c = a@b\n",
        "print('a=')\n",
        "print(a)\n",
        "print('b=')\n",
        "print(b)\n",
        "print('c=')\n",
        "print(c)"
      ],
      "metadata": {
        "colab": {
          "base_uri": "https://localhost:8080/"
        },
        "id": "JlQNV47lmhhM",
        "outputId": "aa6f098a-fea8-4c8e-a68e-0f691ce1c3e6"
      },
      "execution_count": 24,
      "outputs": [
        {
          "output_type": "stream",
          "name": "stdout",
          "text": [
            "a=\n",
            "tensor([[1.0000, 0.0000, 0.0000],\n",
            "        [0.5000, 0.5000, 0.0000],\n",
            "        [0.3333, 0.3333, 0.3333]])\n",
            "b=\n",
            "tensor([[2., 7.],\n",
            "        [6., 4.],\n",
            "        [6., 5.]])\n",
            "c=\n",
            "tensor([[2.0000, 7.0000],\n",
            "        [4.0000, 5.5000],\n",
            "        [4.6667, 5.3333]])\n"
          ]
        }
      ]
    },
    {
      "cell_type": "code",
      "source": [
        "torch.manual_seed(1337)\n",
        "B,T,C = 4,8,2\n",
        "x = torch.randn(B,T,C)\n",
        "x.shape"
      ],
      "metadata": {
        "colab": {
          "base_uri": "https://localhost:8080/"
        },
        "id": "gzeBhBG3nV8s",
        "outputId": "598fda61-5ff9-410e-8193-d2b61deaeba5"
      },
      "execution_count": 25,
      "outputs": [
        {
          "output_type": "execute_result",
          "data": {
            "text/plain": [
              "torch.Size([4, 8, 2])"
            ]
          },
          "metadata": {},
          "execution_count": 25
        }
      ]
    },
    {
      "cell_type": "code",
      "source": [
        "xbow = torch.zeros((B,T,C))\n",
        "for b in range(B):\n",
        "  for t in range(T):\n",
        "    xprev = x[b,:t+1] # (t,C)\n",
        "    xbow[b,t] = torch.mean(xprev, 0)"
      ],
      "metadata": {
        "id": "APfjkezLoMye"
      },
      "execution_count": 26,
      "outputs": []
    },
    {
      "cell_type": "code",
      "source": [
        "wei = torch.tril(torch.ones(T,T))\n",
        "wei = wei / wei.sum(1, keepdim = True)\n",
        "xbow2 = wei @ x\n",
        "torch.allclose(xbow, xbow2)\n"
      ],
      "metadata": {
        "colab": {
          "base_uri": "https://localhost:8080/"
        },
        "id": "ekQo1sbBcMlt",
        "outputId": "0df98aea-11c6-4798-cef1-14a68f4cafb6"
      },
      "execution_count": 27,
      "outputs": [
        {
          "output_type": "execute_result",
          "data": {
            "text/plain": [
              "False"
            ]
          },
          "metadata": {},
          "execution_count": 27
        }
      ]
    },
    {
      "cell_type": "code",
      "source": [
        "tril = torch.tril(torch.ones(T,T))\n",
        "wei = torch.zeros((T,T))\n",
        "wei = wei.masked_fill(tril == 0, float('-inf'))\n",
        "wei = F.softmax(wei, dim =-1)\n",
        "xbow3= wei @x\n",
        "torch.allclose(xbow, xbow3)"
      ],
      "metadata": {
        "colab": {
          "base_uri": "https://localhost:8080/"
        },
        "id": "jYa-7nxTlqRI",
        "outputId": "0ae03410-defe-4535-cf00-74b4d00f0d73"
      },
      "execution_count": 30,
      "outputs": [
        {
          "output_type": "execute_result",
          "data": {
            "text/plain": [
              "False"
            ]
          },
          "metadata": {},
          "execution_count": 30
        }
      ]
    },
    {
      "cell_type": "code",
      "source": [
        "torch.manual_seed(1337)\n",
        "B,T,C = 4,8,32\n",
        "x = torch.randn(B,T,C)\n",
        "\n",
        "# bulding single head attention block\n",
        "head_size = 16\n",
        "key = nn.Linear(C, head_size, bias = False)\n",
        "query = nn.Linear(C, head_size, bias =False)\n",
        "value = nn.Linear(C, head_size, bias = False)\n",
        "\n",
        "k = key(x)\n",
        "q = query(x)\n",
        "wei = q @ k.transpose(-2,- 1)\n",
        "\n",
        "tril = torch.tril(torch.ones(T,T))\n",
        "wei = wei.masked_fill(tril == 0, float('-inf'))\n",
        "wei = F.softmax(wei, dim = -1)\n",
        "\n",
        "v = value(x)\n",
        "out = wei @ v\n",
        "\n",
        "out.shape"
      ],
      "metadata": {
        "colab": {
          "base_uri": "https://localhost:8080/"
        },
        "id": "PMwihy4KnGPM",
        "outputId": "11ee1fb5-68e7-4ac6-cff8-9eb84c7f25ba"
      },
      "execution_count": 31,
      "outputs": [
        {
          "output_type": "execute_result",
          "data": {
            "text/plain": [
              "torch.Size([4, 8, 16])"
            ]
          },
          "metadata": {},
          "execution_count": 31
        }
      ]
    },
    {
      "cell_type": "code",
      "source": [
        "wei[0]"
      ],
      "metadata": {
        "colab": {
          "base_uri": "https://localhost:8080/"
        },
        "id": "W33RCUappWYK",
        "outputId": "9052bacc-37d1-4cb8-b4ab-4bb007e05496"
      },
      "execution_count": 32,
      "outputs": [
        {
          "output_type": "execute_result",
          "data": {
            "text/plain": [
              "tensor([[1.0000, 0.0000, 0.0000, 0.0000, 0.0000, 0.0000, 0.0000, 0.0000],\n",
              "        [0.1574, 0.8426, 0.0000, 0.0000, 0.0000, 0.0000, 0.0000, 0.0000],\n",
              "        [0.2088, 0.1646, 0.6266, 0.0000, 0.0000, 0.0000, 0.0000, 0.0000],\n",
              "        [0.5792, 0.1187, 0.1889, 0.1131, 0.0000, 0.0000, 0.0000, 0.0000],\n",
              "        [0.0294, 0.1052, 0.0469, 0.0276, 0.7909, 0.0000, 0.0000, 0.0000],\n",
              "        [0.0176, 0.2689, 0.0215, 0.0089, 0.6812, 0.0019, 0.0000, 0.0000],\n",
              "        [0.1691, 0.4066, 0.0438, 0.0416, 0.1048, 0.2012, 0.0329, 0.0000],\n",
              "        [0.0210, 0.0843, 0.0555, 0.2297, 0.0573, 0.0709, 0.2423, 0.2391]],\n",
              "       grad_fn=<SelectBackward0>)"
            ]
          },
          "metadata": {},
          "execution_count": 32
        }
      ]
    },
    {
      "cell_type": "code",
      "source": [
        "k = torch.randn(B,T, head_size)\n",
        "q = torch.randn(B,T, head_size)\n",
        "wei = q @ k.transpose(-2,-1) * head_size**-0.5"
      ],
      "metadata": {
        "id": "DW1Kzvs6peG8"
      },
      "execution_count": 33,
      "outputs": []
    },
    {
      "cell_type": "code",
      "source": [
        "k.var()"
      ],
      "metadata": {
        "colab": {
          "base_uri": "https://localhost:8080/"
        },
        "id": "jm62XWS2pxe6",
        "outputId": "a267533b-58c7-4002-e633-6e977606bc81"
      },
      "execution_count": 34,
      "outputs": [
        {
          "output_type": "execute_result",
          "data": {
            "text/plain": [
              "tensor(1.0449)"
            ]
          },
          "metadata": {},
          "execution_count": 34
        }
      ]
    },
    {
      "cell_type": "code",
      "source": [
        "q.var()"
      ],
      "metadata": {
        "colab": {
          "base_uri": "https://localhost:8080/"
        },
        "id": "i9GpCZmxpzwv",
        "outputId": "e9fe64dd-e7c1-4666-b28a-deab15c2000f"
      },
      "execution_count": 35,
      "outputs": [
        {
          "output_type": "execute_result",
          "data": {
            "text/plain": [
              "tensor(1.0700)"
            ]
          },
          "metadata": {},
          "execution_count": 35
        }
      ]
    },
    {
      "cell_type": "code",
      "source": [
        "wei.var()"
      ],
      "metadata": {
        "colab": {
          "base_uri": "https://localhost:8080/"
        },
        "id": "h4vvRcRqp2Q-",
        "outputId": "d1638553-70f3-4ef6-ff23-94687b076771"
      },
      "execution_count": 36,
      "outputs": [
        {
          "output_type": "execute_result",
          "data": {
            "text/plain": [
              "tensor(1.0918)"
            ]
          },
          "metadata": {},
          "execution_count": 36
        }
      ]
    },
    {
      "cell_type": "code",
      "source": [
        "torch.softmax(torch.tensor([0.1,-0.2,0.3,-0.2,0.5]), dim=-1)"
      ],
      "metadata": {
        "colab": {
          "base_uri": "https://localhost:8080/"
        },
        "id": "rfRpO72Kp3py",
        "outputId": "1b875dc0-45d9-45fd-be4f-c9b7558b5842"
      },
      "execution_count": 38,
      "outputs": [
        {
          "output_type": "execute_result",
          "data": {
            "text/plain": [
              "tensor([0.1925, 0.1426, 0.2351, 0.1426, 0.2872])"
            ]
          },
          "metadata": {},
          "execution_count": 38
        }
      ]
    },
    {
      "cell_type": "code",
      "source": [
        "torch.softmax(torch.tensor([0.1,-0.2,0.3,-0.2,0.5])*8, dim=-1)"
      ],
      "metadata": {
        "colab": {
          "base_uri": "https://localhost:8080/"
        },
        "id": "MH6EYgPhqV02",
        "outputId": "de6498db-72fc-42d0-aae6-385b784af1e4"
      },
      "execution_count": 39,
      "outputs": [
        {
          "output_type": "execute_result",
          "data": {
            "text/plain": [
              "tensor([0.0326, 0.0030, 0.1615, 0.0030, 0.8000])"
            ]
          },
          "metadata": {},
          "execution_count": 39
        }
      ]
    },
    {
      "cell_type": "code",
      "source": [
        "class LayerNorm1d:\n",
        "  def __init__(self, dim, eps=1e-5, momentum = 0.1):\n",
        "    self.eps = eps\n",
        "    self.gamma = torch.ones(dim)\n",
        "    self.beta = torch.zeros(dim)\n",
        "\n",
        "\n",
        "  def __call__(self, x):\n",
        "    # calculate the forward pass\n",
        "    xmean = x.mean(1, keepdim=True) # batch mean\n",
        "    xvar = x.var(1, keepdim=True) #\n",
        "    xhat = (x - xmean) / torch.sqrt(xvar + self.eps) # normalize to unit variance\n",
        "    self.out = self.gamma * xhat + self.beta\n",
        "    return self.out\n",
        "\n",
        "  def parameters(self):\n",
        "    return [self.gamma, self.beta]\n",
        "\n"
      ],
      "metadata": {
        "id": "igoTBxzsrnz1"
      },
      "execution_count": 42,
      "outputs": []
    },
    {
      "cell_type": "code",
      "source": [
        "torch.manual_seed(1337)\n",
        "module = LayerNorm1d(100)\n",
        "x = torch.randn(32,100)\n",
        "x = module(x)\n",
        "x.shape"
      ],
      "metadata": {
        "colab": {
          "base_uri": "https://localhost:8080/"
        },
        "id": "X0jRYhj3roL7",
        "outputId": "01c62219-a971-4fb5-8144-650e09efaf09"
      },
      "execution_count": 48,
      "outputs": [
        {
          "output_type": "execute_result",
          "data": {
            "text/plain": [
              "torch.Size([32, 100])"
            ]
          },
          "metadata": {},
          "execution_count": 48
        }
      ]
    },
    {
      "cell_type": "code",
      "source": [
        "x[:,0].mean(), x[:,0].std()"
      ],
      "metadata": {
        "colab": {
          "base_uri": "https://localhost:8080/"
        },
        "id": "t_zP7L6tr0j9",
        "outputId": "2beee0cf-7799-4f40-ca54-1d7d98624e7d"
      },
      "execution_count": 49,
      "outputs": [
        {
          "output_type": "execute_result",
          "data": {
            "text/plain": [
              "(tensor(0.1469), tensor(0.8803))"
            ]
          },
          "metadata": {},
          "execution_count": 49
        }
      ]
    },
    {
      "cell_type": "code",
      "source": [
        "x[0,:].mean(), x[0,:].std()"
      ],
      "metadata": {
        "colab": {
          "base_uri": "https://localhost:8080/"
        },
        "id": "mLNL4l7lr6vJ",
        "outputId": "c4235a50-d76f-4ec2-9f2d-6baf8eaade47"
      },
      "execution_count": 50,
      "outputs": [
        {
          "output_type": "execute_result",
          "data": {
            "text/plain": [
              "(tensor(-9.5367e-09), tensor(1.0000))"
            ]
          },
          "metadata": {},
          "execution_count": 50
        }
      ]
    },
    {
      "cell_type": "code",
      "source": [
        "batch_size = 16 # how many independent sequences will we process in parallel?\n",
        "block_size = 32 # what is the maximum context length for predictions?\n",
        "max_iters = 50000\n",
        "eval_interval = 100\n",
        "learning_rate = 1e-3\n",
        "device = 'cuda' if torch.cuda.is_available() else 'cpu'\n",
        "eval_iters = 200\n",
        "n_embd = 64\n",
        "n_head = 4\n",
        "n_layer = 4\n",
        "dropout = 0.0"
      ],
      "metadata": {
        "id": "tEjMvuEewk6i"
      },
      "execution_count": 58,
      "outputs": []
    },
    {
      "cell_type": "code",
      "source": [
        "@torch.no_grad()\n",
        "def estimate_loss():\n",
        "    out = {}\n",
        "    m.eval()\n",
        "    for split in ['train', 'val']:\n",
        "        losses = torch.zeros(eval_iters)\n",
        "        for k in range(eval_iters):\n",
        "            X, Y = get_batch(split)\n",
        "            logits, loss = m(X, Y)\n",
        "            losses[k] = loss.item()\n",
        "        out[split] = losses.mean()\n",
        "    m.train()\n",
        "    return out"
      ],
      "metadata": {
        "id": "kvXzifyWw6WS"
      },
      "execution_count": 59,
      "outputs": []
    },
    {
      "cell_type": "code",
      "source": [
        "m = m.to(device)\n",
        "# print the number of parameters in the model\n",
        "print(sum(p.numel() for p in m.parameters())/1e6, 'M parameters')\n",
        "\n",
        "# create a PyTorch optimizer\n",
        "optimizer = torch.optim.AdamW(m.parameters(), lr=learning_rate)\n",
        "\n",
        "for iter in range(max_iters):\n",
        "\n",
        "    # every once in a while evaluate the loss on train and val sets\n",
        "    if iter % eval_interval == 0 or iter == max_iters - 1:\n",
        "        losses = estimate_loss()\n",
        "        print(f\"step {iter}: train loss {losses['train']:.4f}, val loss {losses['val']:.4f}\")\n",
        "\n",
        "    # sample a batch of data\n",
        "    xb, yb = get_batch('train')\n",
        "\n",
        "    # evaluate the loss\n",
        "    logits, loss = m(xb, yb)\n",
        "    optimizer.zero_grad(set_to_none=True)\n",
        "    loss.backward()\n",
        "    optimizer.step()\n",
        "\n",
        "# generate from the model\n",
        "context = torch.zeros((1, 1), dtype=torch.long, device=device)\n",
        "print(decode(m.generate(context, max_new_tokens=2000)[0].tolist()))"
      ],
      "metadata": {
        "colab": {
          "base_uri": "https://localhost:8080/"
        },
        "id": "D_twwfEYuk8w",
        "outputId": "0167bcda-39ea-4863-ba2d-162e6e43b77a"
      },
      "execution_count": 60,
      "outputs": [
        {
          "output_type": "stream",
          "name": "stdout",
          "text": [
            "0.004225 M parameters\n",
            "step 0: train loss 2.4550, val loss 2.4842\n",
            "step 100: train loss 2.4533, val loss 2.4844\n",
            "step 200: train loss 2.4540, val loss 2.4908\n",
            "step 300: train loss 2.4527, val loss 2.4812\n",
            "step 400: train loss 2.4495, val loss 2.4863\n",
            "step 500: train loss 2.4515, val loss 2.4963\n",
            "step 600: train loss 2.4593, val loss 2.4917\n",
            "step 700: train loss 2.4511, val loss 2.4915\n",
            "step 800: train loss 2.4541, val loss 2.4872\n",
            "step 900: train loss 2.4484, val loss 2.4862\n",
            "step 1000: train loss 2.4519, val loss 2.4939\n",
            "step 1100: train loss 2.4470, val loss 2.4888\n",
            "step 1200: train loss 2.4472, val loss 2.4830\n",
            "step 1300: train loss 2.4542, val loss 2.4863\n",
            "step 1400: train loss 2.4513, val loss 2.4829\n",
            "step 1500: train loss 2.4552, val loss 2.4826\n",
            "step 1600: train loss 2.4486, val loss 2.4873\n",
            "step 1700: train loss 2.4477, val loss 2.4756\n",
            "step 1800: train loss 2.4554, val loss 2.4789\n",
            "step 1900: train loss 2.4551, val loss 2.4903\n",
            "step 2000: train loss 2.4539, val loss 2.4874\n",
            "step 2100: train loss 2.4519, val loss 2.4902\n",
            "step 2200: train loss 2.4559, val loss 2.4859\n",
            "step 2300: train loss 2.4533, val loss 2.4842\n",
            "step 2400: train loss 2.4554, val loss 2.4872\n",
            "step 2500: train loss 2.4516, val loss 2.4886\n",
            "step 2600: train loss 2.4489, val loss 2.4816\n",
            "step 2700: train loss 2.4572, val loss 2.4871\n",
            "step 2800: train loss 2.4517, val loss 2.4872\n",
            "step 2900: train loss 2.4470, val loss 2.4867\n",
            "step 3000: train loss 2.4549, val loss 2.4883\n",
            "step 3100: train loss 2.4530, val loss 2.4845\n",
            "step 3200: train loss 2.4464, val loss 2.4863\n",
            "step 3300: train loss 2.4537, val loss 2.4933\n",
            "step 3400: train loss 2.4525, val loss 2.4815\n",
            "step 3500: train loss 2.4560, val loss 2.4810\n",
            "step 3600: train loss 2.4565, val loss 2.4907\n",
            "step 3700: train loss 2.4552, val loss 2.4854\n",
            "step 3800: train loss 2.4520, val loss 2.4809\n",
            "step 3900: train loss 2.4558, val loss 2.4798\n",
            "step 4000: train loss 2.4491, val loss 2.4892\n",
            "step 4100: train loss 2.4541, val loss 2.4873\n",
            "step 4200: train loss 2.4554, val loss 2.4832\n",
            "step 4300: train loss 2.4538, val loss 2.4822\n",
            "step 4400: train loss 2.4516, val loss 2.4880\n",
            "step 4500: train loss 2.4568, val loss 2.4941\n",
            "step 4600: train loss 2.4486, val loss 2.4888\n",
            "step 4700: train loss 2.4547, val loss 2.4954\n",
            "step 4800: train loss 2.4568, val loss 2.4915\n",
            "step 4900: train loss 2.4567, val loss 2.4872\n",
            "step 5000: train loss 2.4527, val loss 2.4861\n",
            "step 5100: train loss 2.4518, val loss 2.4922\n",
            "step 5200: train loss 2.4477, val loss 2.4788\n",
            "step 5300: train loss 2.4534, val loss 2.4933\n",
            "step 5400: train loss 2.4513, val loss 2.4890\n",
            "step 5500: train loss 2.4538, val loss 2.4856\n",
            "step 5600: train loss 2.4542, val loss 2.4860\n",
            "step 5700: train loss 2.4532, val loss 2.4837\n",
            "step 5800: train loss 2.4476, val loss 2.4921\n",
            "step 5900: train loss 2.4511, val loss 2.4897\n",
            "step 6000: train loss 2.4532, val loss 2.4962\n",
            "step 6100: train loss 2.4615, val loss 2.4958\n",
            "step 6200: train loss 2.4545, val loss 2.4872\n",
            "step 6300: train loss 2.4564, val loss 2.4868\n",
            "step 6400: train loss 2.4577, val loss 2.4913\n",
            "step 6500: train loss 2.4530, val loss 2.4836\n",
            "step 6600: train loss 2.4556, val loss 2.4895\n",
            "step 6700: train loss 2.4550, val loss 2.4844\n",
            "step 6800: train loss 2.4511, val loss 2.4825\n",
            "step 6900: train loss 2.4532, val loss 2.4853\n",
            "step 7000: train loss 2.4521, val loss 2.4822\n",
            "step 7100: train loss 2.4527, val loss 2.4864\n",
            "step 7200: train loss 2.4506, val loss 2.4843\n",
            "step 7300: train loss 2.4522, val loss 2.4841\n",
            "step 7400: train loss 2.4490, val loss 2.4879\n",
            "step 7500: train loss 2.4443, val loss 2.4875\n",
            "step 7600: train loss 2.4531, val loss 2.4902\n",
            "step 7700: train loss 2.4549, val loss 2.4887\n",
            "step 7800: train loss 2.4526, val loss 2.4913\n",
            "step 7900: train loss 2.4592, val loss 2.4855\n",
            "step 8000: train loss 2.4571, val loss 2.4885\n",
            "step 8100: train loss 2.4546, val loss 2.4920\n",
            "step 8200: train loss 2.4542, val loss 2.4890\n",
            "step 8300: train loss 2.4508, val loss 2.4869\n",
            "step 8400: train loss 2.4532, val loss 2.4864\n",
            "step 8500: train loss 2.4500, val loss 2.4871\n",
            "step 8600: train loss 2.4481, val loss 2.4876\n",
            "step 8700: train loss 2.4546, val loss 2.4924\n",
            "step 8800: train loss 2.4543, val loss 2.4822\n",
            "step 8900: train loss 2.4557, val loss 2.4935\n",
            "step 9000: train loss 2.4550, val loss 2.4897\n",
            "step 9100: train loss 2.4524, val loss 2.4905\n",
            "step 9200: train loss 2.4573, val loss 2.4970\n",
            "step 9300: train loss 2.4590, val loss 2.4893\n",
            "step 9400: train loss 2.4549, val loss 2.4956\n",
            "step 9500: train loss 2.4556, val loss 2.4827\n",
            "step 9600: train loss 2.4522, val loss 2.4864\n",
            "step 9700: train loss 2.4529, val loss 2.4936\n",
            "step 9800: train loss 2.4554, val loss 2.4923\n",
            "step 9900: train loss 2.4524, val loss 2.4790\n",
            "step 10000: train loss 2.4559, val loss 2.4906\n",
            "step 10100: train loss 2.4566, val loss 2.4882\n",
            "step 10200: train loss 2.4522, val loss 2.4909\n",
            "step 10300: train loss 2.4515, val loss 2.4878\n",
            "step 10400: train loss 2.4514, val loss 2.4922\n",
            "step 10500: train loss 2.4503, val loss 2.4919\n",
            "step 10600: train loss 2.4502, val loss 2.4751\n",
            "step 10700: train loss 2.4590, val loss 2.4944\n",
            "step 10800: train loss 2.4506, val loss 2.4803\n",
            "step 10900: train loss 2.4488, val loss 2.4882\n",
            "step 11000: train loss 2.4560, val loss 2.4863\n",
            "step 11100: train loss 2.4531, val loss 2.4885\n",
            "step 11200: train loss 2.4524, val loss 2.4890\n",
            "step 11300: train loss 2.4508, val loss 2.4820\n",
            "step 11400: train loss 2.4511, val loss 2.4867\n",
            "step 11500: train loss 2.4544, val loss 2.4884\n",
            "step 11600: train loss 2.4565, val loss 2.4812\n",
            "step 11700: train loss 2.4573, val loss 2.4906\n",
            "step 11800: train loss 2.4545, val loss 2.4896\n",
            "step 11900: train loss 2.4516, val loss 2.4885\n",
            "step 12000: train loss 2.4512, val loss 2.4888\n",
            "step 12100: train loss 2.4572, val loss 2.4898\n",
            "step 12200: train loss 2.4488, val loss 2.4914\n",
            "step 12300: train loss 2.4519, val loss 2.4866\n",
            "step 12400: train loss 2.4473, val loss 2.4871\n",
            "step 12500: train loss 2.4572, val loss 2.4903\n",
            "step 12600: train loss 2.4554, val loss 2.4825\n",
            "step 12700: train loss 2.4552, val loss 2.4837\n",
            "step 12800: train loss 2.4543, val loss 2.4939\n",
            "step 12900: train loss 2.4573, val loss 2.4870\n",
            "step 13000: train loss 2.4547, val loss 2.4834\n",
            "step 13100: train loss 2.4484, val loss 2.4868\n",
            "step 13200: train loss 2.4532, val loss 2.4841\n",
            "step 13300: train loss 2.4587, val loss 2.4842\n",
            "step 13400: train loss 2.4500, val loss 2.4888\n",
            "step 13500: train loss 2.4563, val loss 2.4894\n",
            "step 13600: train loss 2.4530, val loss 2.4924\n",
            "step 13700: train loss 2.4542, val loss 2.4826\n",
            "step 13800: train loss 2.4531, val loss 2.4911\n",
            "step 13900: train loss 2.4504, val loss 2.4940\n",
            "step 14000: train loss 2.4525, val loss 2.4894\n",
            "step 14100: train loss 2.4554, val loss 2.4875\n",
            "step 14200: train loss 2.4548, val loss 2.4898\n",
            "step 14300: train loss 2.4549, val loss 2.4925\n",
            "step 14400: train loss 2.4508, val loss 2.5011\n",
            "step 14500: train loss 2.4522, val loss 2.4902\n",
            "step 14600: train loss 2.4534, val loss 2.4870\n",
            "step 14700: train loss 2.4545, val loss 2.4863\n",
            "step 14800: train loss 2.4546, val loss 2.4910\n",
            "step 14900: train loss 2.4557, val loss 2.4858\n",
            "step 15000: train loss 2.4475, val loss 2.4847\n",
            "step 15100: train loss 2.4497, val loss 2.4809\n",
            "step 15200: train loss 2.4479, val loss 2.4909\n",
            "step 15300: train loss 2.4555, val loss 2.4839\n",
            "step 15400: train loss 2.4530, val loss 2.4868\n",
            "step 15500: train loss 2.4533, val loss 2.4915\n",
            "step 15600: train loss 2.4519, val loss 2.4872\n",
            "step 15700: train loss 2.4529, val loss 2.4890\n",
            "step 15800: train loss 2.4494, val loss 2.4922\n",
            "step 15900: train loss 2.4577, val loss 2.4966\n",
            "step 16000: train loss 2.4529, val loss 2.4895\n",
            "step 16100: train loss 2.4444, val loss 2.4911\n",
            "step 16200: train loss 2.4578, val loss 2.4840\n",
            "step 16300: train loss 2.4579, val loss 2.4816\n",
            "step 16400: train loss 2.4521, val loss 2.4907\n",
            "step 16500: train loss 2.4485, val loss 2.4976\n",
            "step 16600: train loss 2.4469, val loss 2.4916\n",
            "step 16700: train loss 2.4505, val loss 2.4964\n",
            "step 16800: train loss 2.4512, val loss 2.4893\n",
            "step 16900: train loss 2.4546, val loss 2.4978\n",
            "step 17000: train loss 2.4509, val loss 2.4902\n",
            "step 17100: train loss 2.4534, val loss 2.4920\n",
            "step 17200: train loss 2.4567, val loss 2.4914\n",
            "step 17300: train loss 2.4540, val loss 2.4911\n",
            "step 17400: train loss 2.4557, val loss 2.4873\n",
            "step 17500: train loss 2.4477, val loss 2.4935\n",
            "step 17600: train loss 2.4476, val loss 2.4924\n",
            "step 17700: train loss 2.4494, val loss 2.4920\n",
            "step 17800: train loss 2.4484, val loss 2.4939\n",
            "step 17900: train loss 2.4471, val loss 2.4851\n",
            "step 18000: train loss 2.4487, val loss 2.4927\n",
            "step 18100: train loss 2.4543, val loss 2.4954\n",
            "step 18200: train loss 2.4545, val loss 2.4904\n",
            "step 18300: train loss 2.4540, val loss 2.4990\n",
            "step 18400: train loss 2.4522, val loss 2.4942\n",
            "step 18500: train loss 2.4494, val loss 2.4914\n",
            "step 18600: train loss 2.4453, val loss 2.4894\n",
            "step 18700: train loss 2.4448, val loss 2.5021\n",
            "step 18800: train loss 2.4528, val loss 2.4850\n",
            "step 18900: train loss 2.4526, val loss 2.4867\n",
            "step 19000: train loss 2.4495, val loss 2.4875\n",
            "step 19100: train loss 2.4482, val loss 2.4885\n",
            "step 19200: train loss 2.4510, val loss 2.4928\n",
            "step 19300: train loss 2.4474, val loss 2.4932\n",
            "step 19400: train loss 2.4526, val loss 2.4883\n",
            "step 19500: train loss 2.4553, val loss 2.4900\n",
            "step 19600: train loss 2.4513, val loss 2.4954\n",
            "step 19700: train loss 2.4476, val loss 2.4882\n",
            "step 19800: train loss 2.4509, val loss 2.4912\n",
            "step 19900: train loss 2.4516, val loss 2.4917\n",
            "step 20000: train loss 2.4535, val loss 2.4904\n",
            "step 20100: train loss 2.4483, val loss 2.4861\n",
            "step 20200: train loss 2.4530, val loss 2.4992\n",
            "step 20300: train loss 2.4516, val loss 2.4852\n",
            "step 20400: train loss 2.4575, val loss 2.4811\n",
            "step 20500: train loss 2.4550, val loss 2.4834\n",
            "step 20600: train loss 2.4537, val loss 2.4861\n",
            "step 20700: train loss 2.4511, val loss 2.4963\n",
            "step 20800: train loss 2.4511, val loss 2.4933\n",
            "step 20900: train loss 2.4573, val loss 2.4944\n",
            "step 21000: train loss 2.4549, val loss 2.4901\n",
            "step 21100: train loss 2.4491, val loss 2.4857\n",
            "step 21200: train loss 2.4508, val loss 2.4920\n",
            "step 21300: train loss 2.4529, val loss 2.4816\n",
            "step 21400: train loss 2.4457, val loss 2.4954\n",
            "step 21500: train loss 2.4535, val loss 2.4878\n",
            "step 21600: train loss 2.4498, val loss 2.4835\n",
            "step 21700: train loss 2.4529, val loss 2.4878\n",
            "step 21800: train loss 2.4563, val loss 2.4810\n",
            "step 21900: train loss 2.4495, val loss 2.4905\n",
            "step 22000: train loss 2.4559, val loss 2.4911\n",
            "step 22100: train loss 2.4545, val loss 2.4953\n",
            "step 22200: train loss 2.4558, val loss 2.4870\n",
            "step 22300: train loss 2.4479, val loss 2.4958\n",
            "step 22400: train loss 2.4473, val loss 2.4875\n",
            "step 22500: train loss 2.4536, val loss 2.4947\n",
            "step 22600: train loss 2.4517, val loss 2.4906\n",
            "step 22700: train loss 2.4577, val loss 2.4923\n",
            "step 22800: train loss 2.4582, val loss 2.4928\n",
            "step 22900: train loss 2.4529, val loss 2.4802\n",
            "step 23000: train loss 2.4541, val loss 2.4966\n",
            "step 23100: train loss 2.4487, val loss 2.4880\n",
            "step 23200: train loss 2.4511, val loss 2.4864\n",
            "step 23300: train loss 2.4526, val loss 2.4907\n",
            "step 23400: train loss 2.4524, val loss 2.4866\n",
            "step 23500: train loss 2.4544, val loss 2.4878\n",
            "step 23600: train loss 2.4518, val loss 2.4874\n",
            "step 23700: train loss 2.4556, val loss 2.4904\n",
            "step 23800: train loss 2.4515, val loss 2.4885\n",
            "step 23900: train loss 2.4516, val loss 2.4891\n",
            "step 24000: train loss 2.4488, val loss 2.4904\n",
            "step 24100: train loss 2.4559, val loss 2.4875\n",
            "step 24200: train loss 2.4433, val loss 2.4921\n",
            "step 24300: train loss 2.4537, val loss 2.4972\n",
            "step 24400: train loss 2.4553, val loss 2.4895\n",
            "step 24500: train loss 2.4521, val loss 2.4905\n",
            "step 24600: train loss 2.4539, val loss 2.4935\n",
            "step 24700: train loss 2.4583, val loss 2.4926\n",
            "step 24800: train loss 2.4529, val loss 2.4882\n",
            "step 24900: train loss 2.4512, val loss 2.4807\n",
            "step 25000: train loss 2.4499, val loss 2.4894\n",
            "step 25100: train loss 2.4495, val loss 2.4914\n",
            "step 25200: train loss 2.4478, val loss 2.4875\n",
            "step 25300: train loss 2.4555, val loss 2.4884\n",
            "step 25400: train loss 2.4538, val loss 2.4919\n",
            "step 25500: train loss 2.4573, val loss 2.4941\n",
            "step 25600: train loss 2.4557, val loss 2.4841\n",
            "step 25700: train loss 2.4586, val loss 2.4952\n",
            "step 25800: train loss 2.4604, val loss 2.4929\n",
            "step 25900: train loss 2.4548, val loss 2.4911\n",
            "step 26000: train loss 2.4504, val loss 2.4833\n",
            "step 26100: train loss 2.4581, val loss 2.4915\n",
            "step 26200: train loss 2.4499, val loss 2.4923\n",
            "step 26300: train loss 2.4547, val loss 2.4867\n",
            "step 26400: train loss 2.4486, val loss 2.4926\n",
            "step 26500: train loss 2.4526, val loss 2.4925\n",
            "step 26600: train loss 2.4507, val loss 2.4886\n",
            "step 26700: train loss 2.4526, val loss 2.4918\n",
            "step 26800: train loss 2.4479, val loss 2.4866\n",
            "step 26900: train loss 2.4523, val loss 2.4913\n",
            "step 27000: train loss 2.4554, val loss 2.4880\n",
            "step 27100: train loss 2.4547, val loss 2.4911\n",
            "step 27200: train loss 2.4582, val loss 2.4866\n",
            "step 27300: train loss 2.4568, val loss 2.4892\n",
            "step 27400: train loss 2.4454, val loss 2.4914\n",
            "step 27500: train loss 2.4576, val loss 2.4878\n",
            "step 27600: train loss 2.4510, val loss 2.4976\n",
            "step 27700: train loss 2.4579, val loss 2.4919\n",
            "step 27800: train loss 2.4528, val loss 2.4893\n",
            "step 27900: train loss 2.4513, val loss 2.4907\n",
            "step 28000: train loss 2.4512, val loss 2.4876\n",
            "step 28100: train loss 2.4528, val loss 2.4906\n",
            "step 28200: train loss 2.4537, val loss 2.4875\n",
            "step 28300: train loss 2.4491, val loss 2.4891\n",
            "step 28400: train loss 2.4481, val loss 2.4973\n",
            "step 28500: train loss 2.4545, val loss 2.4863\n",
            "step 28600: train loss 2.4519, val loss 2.4885\n",
            "step 28700: train loss 2.4527, val loss 2.4881\n",
            "step 28800: train loss 2.4540, val loss 2.4807\n",
            "step 28900: train loss 2.4511, val loss 2.4872\n",
            "step 29000: train loss 2.4554, val loss 2.4895\n",
            "step 29100: train loss 2.4470, val loss 2.4948\n",
            "step 29200: train loss 2.4509, val loss 2.4903\n",
            "step 29300: train loss 2.4518, val loss 2.4873\n",
            "step 29400: train loss 2.4543, val loss 2.4904\n",
            "step 29500: train loss 2.4525, val loss 2.4847\n",
            "step 29600: train loss 2.4563, val loss 2.4949\n",
            "step 29700: train loss 2.4524, val loss 2.4897\n",
            "step 29800: train loss 2.4565, val loss 2.4927\n",
            "step 29900: train loss 2.4506, val loss 2.4840\n",
            "step 30000: train loss 2.4532, val loss 2.4947\n",
            "step 30100: train loss 2.4551, val loss 2.4966\n",
            "step 30200: train loss 2.4599, val loss 2.4892\n",
            "step 30300: train loss 2.4471, val loss 2.4880\n",
            "step 30400: train loss 2.4573, val loss 2.4878\n",
            "step 30500: train loss 2.4610, val loss 2.4883\n",
            "step 30600: train loss 2.4556, val loss 2.4879\n",
            "step 30700: train loss 2.4480, val loss 2.4924\n",
            "step 30800: train loss 2.4535, val loss 2.4929\n",
            "step 30900: train loss 2.4541, val loss 2.4865\n",
            "step 31000: train loss 2.4549, val loss 2.4860\n",
            "step 31100: train loss 2.4457, val loss 2.4870\n",
            "step 31200: train loss 2.4514, val loss 2.4971\n",
            "step 31300: train loss 2.4521, val loss 2.4918\n",
            "step 31400: train loss 2.4520, val loss 2.4838\n",
            "step 31500: train loss 2.4494, val loss 2.4952\n",
            "step 31600: train loss 2.4515, val loss 2.4925\n",
            "step 31700: train loss 2.4538, val loss 2.4942\n",
            "step 31800: train loss 2.4549, val loss 2.4848\n",
            "step 31900: train loss 2.4530, val loss 2.4928\n",
            "step 32000: train loss 2.4528, val loss 2.4900\n",
            "step 32100: train loss 2.4479, val loss 2.4918\n",
            "step 32200: train loss 2.4537, val loss 2.4915\n",
            "step 32300: train loss 2.4495, val loss 2.4880\n",
            "step 32400: train loss 2.4493, val loss 2.4913\n",
            "step 32500: train loss 2.4500, val loss 2.4916\n",
            "step 32600: train loss 2.4543, val loss 2.4861\n",
            "step 32700: train loss 2.4451, val loss 2.4859\n",
            "step 32800: train loss 2.4546, val loss 2.4952\n",
            "step 32900: train loss 2.4568, val loss 2.4950\n",
            "step 33000: train loss 2.4526, val loss 2.4881\n",
            "step 33100: train loss 2.4571, val loss 2.4828\n",
            "step 33200: train loss 2.4527, val loss 2.4943\n",
            "step 33300: train loss 2.4558, val loss 2.4916\n",
            "step 33400: train loss 2.4534, val loss 2.4886\n",
            "step 33500: train loss 2.4455, val loss 2.4819\n",
            "step 33600: train loss 2.4489, val loss 2.4792\n",
            "step 33700: train loss 2.4509, val loss 2.4881\n",
            "step 33800: train loss 2.4590, val loss 2.4899\n",
            "step 33900: train loss 2.4516, val loss 2.4935\n",
            "step 34000: train loss 2.4540, val loss 2.4962\n",
            "step 34100: train loss 2.4511, val loss 2.4884\n",
            "step 34200: train loss 2.4578, val loss 2.4849\n",
            "step 34300: train loss 2.4479, val loss 2.4883\n",
            "step 34400: train loss 2.4495, val loss 2.4870\n",
            "step 34500: train loss 2.4570, val loss 2.4894\n",
            "step 34600: train loss 2.4546, val loss 2.4936\n",
            "step 34700: train loss 2.4523, val loss 2.4989\n",
            "step 34800: train loss 2.4474, val loss 2.4819\n",
            "step 34900: train loss 2.4482, val loss 2.4878\n",
            "step 35000: train loss 2.4498, val loss 2.4938\n",
            "step 35100: train loss 2.4488, val loss 2.4918\n",
            "step 35200: train loss 2.4547, val loss 2.5001\n",
            "step 35300: train loss 2.4550, val loss 2.4947\n",
            "step 35400: train loss 2.4489, val loss 2.4931\n",
            "step 35500: train loss 2.4509, val loss 2.4916\n",
            "step 35600: train loss 2.4488, val loss 2.4883\n",
            "step 35700: train loss 2.4538, val loss 2.4918\n",
            "step 35800: train loss 2.4557, val loss 2.4927\n",
            "step 35900: train loss 2.4532, val loss 2.4926\n",
            "step 36000: train loss 2.4517, val loss 2.4884\n",
            "step 36100: train loss 2.4485, val loss 2.4971\n",
            "step 36200: train loss 2.4523, val loss 2.4947\n",
            "step 36300: train loss 2.4486, val loss 2.4962\n",
            "step 36400: train loss 2.4532, val loss 2.4845\n",
            "step 36500: train loss 2.4550, val loss 2.4864\n",
            "step 36600: train loss 2.4474, val loss 2.4931\n",
            "step 36700: train loss 2.4507, val loss 2.4903\n",
            "step 36800: train loss 2.4461, val loss 2.4864\n",
            "step 36900: train loss 2.4491, val loss 2.4864\n",
            "step 37000: train loss 2.4560, val loss 2.4882\n",
            "step 37100: train loss 2.4531, val loss 2.4890\n",
            "step 37200: train loss 2.4527, val loss 2.4839\n",
            "step 37300: train loss 2.4586, val loss 2.4905\n",
            "step 37400: train loss 2.4551, val loss 2.4895\n",
            "step 37500: train loss 2.4517, val loss 2.4925\n",
            "step 37600: train loss 2.4541, val loss 2.4928\n",
            "step 37700: train loss 2.4586, val loss 2.4870\n",
            "step 37800: train loss 2.4459, val loss 2.4825\n",
            "step 37900: train loss 2.4552, val loss 2.4861\n",
            "step 38000: train loss 2.4515, val loss 2.4882\n",
            "step 38100: train loss 2.4580, val loss 2.4890\n",
            "step 38200: train loss 2.4520, val loss 2.4899\n",
            "step 38300: train loss 2.4533, val loss 2.4924\n",
            "step 38400: train loss 2.4528, val loss 2.4847\n",
            "step 38500: train loss 2.4533, val loss 2.4907\n",
            "step 38600: train loss 2.4571, val loss 2.4844\n",
            "step 38700: train loss 2.4550, val loss 2.4932\n",
            "step 38800: train loss 2.4518, val loss 2.4937\n",
            "step 38900: train loss 2.4486, val loss 2.4856\n",
            "step 39000: train loss 2.4437, val loss 2.4835\n",
            "step 39100: train loss 2.4585, val loss 2.4859\n",
            "step 39200: train loss 2.4513, val loss 2.4866\n",
            "step 39300: train loss 2.4535, val loss 2.4877\n",
            "step 39400: train loss 2.4534, val loss 2.4872\n",
            "step 39500: train loss 2.4560, val loss 2.4928\n",
            "step 39600: train loss 2.4528, val loss 2.4843\n",
            "step 39700: train loss 2.4488, val loss 2.4867\n",
            "step 39800: train loss 2.4498, val loss 2.4861\n",
            "step 39900: train loss 2.4522, val loss 2.4875\n",
            "step 40000: train loss 2.4462, val loss 2.4895\n",
            "step 40100: train loss 2.4494, val loss 2.4879\n",
            "step 40200: train loss 2.4506, val loss 2.4883\n",
            "step 40300: train loss 2.4521, val loss 2.4895\n",
            "step 40400: train loss 2.4507, val loss 2.4850\n",
            "step 40500: train loss 2.4473, val loss 2.4984\n",
            "step 40600: train loss 2.4532, val loss 2.4872\n",
            "step 40700: train loss 2.4560, val loss 2.4921\n",
            "step 40800: train loss 2.4517, val loss 2.4923\n",
            "step 40900: train loss 2.4519, val loss 2.4902\n",
            "step 41000: train loss 2.4569, val loss 2.4943\n",
            "step 41100: train loss 2.4558, val loss 2.4920\n",
            "step 41200: train loss 2.4548, val loss 2.4967\n",
            "step 41300: train loss 2.4518, val loss 2.4905\n",
            "step 41400: train loss 2.4520, val loss 2.4927\n",
            "step 41500: train loss 2.4478, val loss 2.4966\n",
            "step 41600: train loss 2.4570, val loss 2.4939\n",
            "step 41700: train loss 2.4512, val loss 2.4893\n",
            "step 41800: train loss 2.4545, val loss 2.4861\n",
            "step 41900: train loss 2.4551, val loss 2.4991\n",
            "step 42000: train loss 2.4505, val loss 2.5040\n",
            "step 42100: train loss 2.4475, val loss 2.4940\n",
            "step 42200: train loss 2.4471, val loss 2.4888\n",
            "step 42300: train loss 2.4575, val loss 2.4924\n",
            "step 42400: train loss 2.4504, val loss 2.4924\n",
            "step 42500: train loss 2.4444, val loss 2.4859\n",
            "step 42600: train loss 2.4537, val loss 2.4889\n",
            "step 42700: train loss 2.4484, val loss 2.4846\n",
            "step 42800: train loss 2.4503, val loss 2.4927\n",
            "step 42900: train loss 2.4531, val loss 2.4926\n",
            "step 43000: train loss 2.4504, val loss 2.4963\n",
            "step 43100: train loss 2.4509, val loss 2.4938\n",
            "step 43200: train loss 2.4501, val loss 2.4903\n",
            "step 43300: train loss 2.4494, val loss 2.4896\n",
            "step 43400: train loss 2.4516, val loss 2.4898\n",
            "step 43500: train loss 2.4492, val loss 2.4947\n",
            "step 43600: train loss 2.4578, val loss 2.4914\n",
            "step 43700: train loss 2.4563, val loss 2.4914\n",
            "step 43800: train loss 2.4521, val loss 2.4847\n",
            "step 43900: train loss 2.4519, val loss 2.4947\n",
            "step 44000: train loss 2.4513, val loss 2.4907\n",
            "step 44100: train loss 2.4585, val loss 2.4899\n",
            "step 44200: train loss 2.4514, val loss 2.4892\n",
            "step 44300: train loss 2.4568, val loss 2.4865\n",
            "step 44400: train loss 2.4473, val loss 2.4827\n",
            "step 44500: train loss 2.4537, val loss 2.4930\n",
            "step 44600: train loss 2.4501, val loss 2.4901\n",
            "step 44700: train loss 2.4512, val loss 2.4951\n",
            "step 44800: train loss 2.4470, val loss 2.4966\n",
            "step 44900: train loss 2.4522, val loss 2.4923\n",
            "step 45000: train loss 2.4514, val loss 2.4908\n",
            "step 45100: train loss 2.4527, val loss 2.4927\n",
            "step 45200: train loss 2.4570, val loss 2.4980\n",
            "step 45300: train loss 2.4545, val loss 2.4847\n",
            "step 45400: train loss 2.4519, val loss 2.4969\n",
            "step 45500: train loss 2.4545, val loss 2.4920\n",
            "step 45600: train loss 2.4518, val loss 2.4919\n",
            "step 45700: train loss 2.4592, val loss 2.4943\n",
            "step 45800: train loss 2.4533, val loss 2.4933\n",
            "step 45900: train loss 2.4473, val loss 2.4927\n",
            "step 46000: train loss 2.4496, val loss 2.4937\n",
            "step 46100: train loss 2.4522, val loss 2.4929\n",
            "step 46200: train loss 2.4561, val loss 2.4866\n",
            "step 46300: train loss 2.4489, val loss 2.4963\n",
            "step 46400: train loss 2.4556, val loss 2.4920\n",
            "step 46500: train loss 2.4488, val loss 2.4901\n",
            "step 46600: train loss 2.4554, val loss 2.4902\n",
            "step 46700: train loss 2.4569, val loss 2.4899\n",
            "step 46800: train loss 2.4524, val loss 2.4931\n",
            "step 46900: train loss 2.4541, val loss 2.4875\n",
            "step 47000: train loss 2.4563, val loss 2.4909\n",
            "step 47100: train loss 2.4456, val loss 2.4916\n",
            "step 47200: train loss 2.4468, val loss 2.4896\n",
            "step 47300: train loss 2.4486, val loss 2.4895\n",
            "step 47400: train loss 2.4497, val loss 2.4927\n",
            "step 47500: train loss 2.4501, val loss 2.4947\n",
            "step 47600: train loss 2.4498, val loss 2.4874\n",
            "step 47700: train loss 2.4478, val loss 2.4907\n",
            "step 47800: train loss 2.4497, val loss 2.4924\n",
            "step 47900: train loss 2.4590, val loss 2.4852\n",
            "step 48000: train loss 2.4607, val loss 2.4853\n",
            "step 48100: train loss 2.4532, val loss 2.4958\n",
            "step 48200: train loss 2.4473, val loss 2.4902\n",
            "step 48300: train loss 2.4543, val loss 2.4952\n",
            "step 48400: train loss 2.4465, val loss 2.4914\n",
            "step 48500: train loss 2.4499, val loss 2.4901\n",
            "step 48600: train loss 2.4472, val loss 2.4866\n",
            "step 48700: train loss 2.4551, val loss 2.4884\n",
            "step 48800: train loss 2.4565, val loss 2.4942\n",
            "step 48900: train loss 2.4560, val loss 2.4915\n",
            "step 49000: train loss 2.4537, val loss 2.4910\n",
            "step 49100: train loss 2.4517, val loss 2.4943\n",
            "step 49200: train loss 2.4461, val loss 2.4880\n",
            "step 49300: train loss 2.4553, val loss 2.4878\n",
            "step 49400: train loss 2.4496, val loss 2.4904\n",
            "step 49500: train loss 2.4493, val loss 2.4887\n",
            "step 49600: train loss 2.4502, val loss 2.4954\n",
            "step 49700: train loss 2.4482, val loss 2.4967\n",
            "step 49800: train loss 2.4550, val loss 2.4960\n",
            "step 49900: train loss 2.4456, val loss 2.4948\n",
            "step 49999: train loss 2.4580, val loss 2.4906\n",
            "\n",
            "LOrano'selougr I.\n",
            "doune e t tche.\n",
            "Witrsa orrimy y.\n",
            "Of r, ENAy tethemaved cte ler bome PRKIS:\n",
            "An byongasils th k tld toutrlanoring te a icurer m wandu izes belllothemu cht hesad.\n",
            "Le war, uthict ideothyore thorfeefowe.\n",
            "COPUS:\n",
            "Tor'l and chait hey le\n",
            "DWo h sigharsheous tour odires pure Whoind d o the y u th PESprvenimind dartere bede ly bol s'den veano m mor izevedins chathisathorbone s fofy\n",
            "Se\n",
            "ARofarurareset theary\n",
            "thay les arse; ld mouthoplin? y dou:\n",
            "RIXEint verpe oas th HUSioundds ppy;\n",
            "Tha sist ou thor:\n",
            "I ke se n' coug, wers ivefacusbrateangh.\n",
            "\n",
            "\n",
            "MEave, mo woveald st al,\n",
            "tht p\n",
            "Ton indoltheath s hend wnde y ieto k. be ppe ce MENG beadice! thineg den meas aprord, beht bot nghach\n",
            "Y withy he an? w?\n",
            "\n",
            "Nody t gorad he!\n",
            "\n",
            "\n",
            "theceremy wapecowathoforin, VORY fave cem OMy tomurcenurider lll t I:\n",
            "I I w e o Fispe mes RINomauseave ghe heroelshou mbe S:\n",
            "BEN thoul gnt blovilan pind iove;\n",
            "IONo sby, trther th deeathilt Eng ndey, schamaben hais hes t wack, the or nd tondat by mirgooukee, fe trizer aere, y wam IURItulyeane h meloancound t,\n",
            "\n",
            "ORis wad seme whollllld cent we I m bug; banu ovinon:\n",
            "KIORIELAnren fe y prprecif ske llanathe. t NERoley's rindimantoueper tf upl'desplithe hose war ais ce gowase thowourth e ber suns Is au e se gousshesto myou, heag y o.\n",
            "\n",
            "\n",
            "UCENGAno haringund tas o h rombat r, t ticepulef, thandsthoundee whechowhathis, Ims h t w wo hergrn ckingou anonst ngren st'Thallo.\n",
            "Ithantheryelare thene oy Al d pome coyoncus'Theditesed wimnesis t thay was wosathe phan ais on,\n",
            "We mar\n",
            "D sha thare tomanous'th I ch an iof LO:\n",
            "Ase oof ayomm'e'shecire somithe sh o wit o, l os\n",
            "I'e, shoutr hoe\n",
            "\n",
            "\n",
            "Noomed y thincheche etou ar io theas IUEOULIAnowiqutopeinusemele ad lind'd turds, ary, s wime:\n",
            "ur u s he! ndnowan y CLe y y h o O:\n",
            "Wher thithe; lerrcallan younke, y, ifathape my anour ne,\n",
            "Hourathe tr'titicre t t lavondind inden hes, t.\n",
            "TETETUCUpisowe g ofortot tts ar ore s; orosu ut open dela GBEThe bidoyoutsar cheeer hespee istr begoffor escow s!\n",
            "HA y's tule! ve tanoures be. whes thouaref ormatru:\n"
          ]
        }
      ]
    },
    {
      "cell_type": "code",
      "source": [
        "context = torch.zeros((1, 1), dtype=torch.long)\n",
        "print(decode(m.generate(context, max_new_tokens=2000)[0].tolist()))\n"
      ],
      "metadata": {
        "colab": {
          "base_uri": "https://localhost:8080/"
        },
        "id": "kYNGHo__r_Bi",
        "outputId": "2adbae0d-6273-40fa-fd49-e6f3e12a42f9"
      },
      "execution_count": 61,
      "outputs": [
        {
          "output_type": "stream",
          "name": "stdout",
          "text": [
            "\n",
            "I menteyowfot wors t ochy ane st\n",
            "AME:\n",
            "\n",
            "Weso tht S:\n",
            "A:\n",
            "stho ek cctal the ceivek'e an, ncrd, achr thmo ld allearth wint y arice me trere,\n",
            "And t; t th, orowidee posst's thend t illa ur,\n",
            "inds ameno'dersutely ve d or o wex's whakes wain ul k ca fe,\n",
            "UShilyotr y. wse shath d han morinel 'de, o m al\n",
            "\n",
            "O:\n",
            "Cun abe n t bir?\n",
            "ABrin g\n",
            "Busthatye atosous nd\n",
            "Y:\n",
            "Agr acen theicitito d mef was.\n",
            "\n",
            "Tin ie h y plis hee.\n",
            "Wisand g.\n",
            "\n",
            "TIt d lad: hord ma lerileeen thentha-stie IENG, by.\n",
            "FOVIICllors yon:\n",
            "t ch'syo e iswiny Itedy m iter u.\n",
            "Cly be and ber ak CENO:\n",
            "YORod idefoowit oeneheghewh\n",
            "NThernd-s, h w lotand the ace brt\n",
            "Th thaicie\n",
            "TEN knkenore his toarlitinithea; IUShe ch ofrd me mavets, s y oustitofo! Bicicefin pl s ay te meder stethe tearoo ialuly sta my fo thavesshedecy b h sesthou t st nt s EShi' f:\n",
            "KELouin; Grizes bulf t.\n",
            "NGorofaketh h, sthen y he it mathenche tr d. urnd d, ano thacan'se ice dain fidre,\n",
            "HASTit INathe ive se IO:\n",
            "Thtondu t Pe.\n",
            "himy men t w ithes disu tavinof,\n",
            "ANBousede,-avith\n",
            "Ban'lllofo IINI ne y;\n",
            "MED rde r\n",
            "Thecabe ICELY bl fr y:\n",
            "GES:\n",
            "F in\n",
            "TUn ber.\n",
            "Be aicharmopouromecces hilllemey y\n",
            "Wher uthocuthane? w and whenofre antowankner t boofry, at n. I annou thempres ingndsche FR us.'d lout is clloueas mes.\n",
            "TESTauche,-hat t, Ithorye y lur cr thy ybrst ts him nthesownsam t, bend y deany tolloneswe wndy. th cche thed;\n",
            "The.\n",
            "Th, oovith r.' f\n",
            "TOungeeancit avow wor,\n",
            "Pre\n",
            "Two wate, mar obers atold d I, spou hal d:\n",
            "INRK:\n",
            "Angrod t o y'd, ancy wa S:\n",
            "Byafe'l p sharindis'earorerglin!\n",
            "Rothoue ave al by lal I:\n",
            "Torbetit bughemou s s hefof pllyomanch thyemy t:\n",
            "N ce y? heyerbesstrinin mis an wiveinde! in daleat whe.\n",
            "Fice thof pilame:\n",
            "\n",
            "Y ul; sor\n",
            "I I'd wowecr wononthes's? thendes\n",
            "Askeadelal:\n",
            "I b, blilll, n s, VES e\n",
            "OLICLA: fanearear utcato st mpresum corn d necund AMonorouplamyo we wo predve casaleasteand, cthea meas at; nener: f\n",
            "BENI I harin w, t d.\n",
            "H:\n",
            "Myowhe ea tef st whabis p glelse,\n",
            "Whthadgelthas wousit.\n",
            "L: t g ithil ldyobun mpo, ors thand id t be t, pr then, butheen y t ile o:\n",
            "wouitests, waicellis\n"
          ]
        }
      ]
    },
    {
      "cell_type": "code",
      "source": [],
      "metadata": {
        "id": "ne-eobEhsnui"
      },
      "execution_count": null,
      "outputs": []
    }
  ]
}